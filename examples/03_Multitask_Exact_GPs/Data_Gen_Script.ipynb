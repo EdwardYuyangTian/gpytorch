{
 "cells": [
  {
   "cell_type": "code",
   "execution_count": 2,
   "id": "ce0dafa1",
   "metadata": {},
   "outputs": [],
   "source": [
    "# Support for simulating a vector field over a hypercube, with a known value at\n",
    "# a selected point.\n",
    "#\n",
    "# Carlo Graziani, ANL\n",
    "#\n",
    "\"\"\"\n",
    "Support for simulating a vector field over a hypercube, with a known value at a\n",
    "selected point.\n",
    "\"\"\"\n",
    "\n",
    "import torch\n",
    "import numpy as np\n",
    "from scipy.stats import uniform\n",
    "import math\n",
    "\n",
    "\n",
    "######################################################################\n",
    "######################################################################\n",
    "######################################################################\n",
    "class VField(object):\n",
    "    \"\"\"\n",
    "    An N-dimensional vector field over a D-dimensional hypercube, with\n",
    "    a given value at a given point.\n",
    "    \"\"\"\n",
    "#########################################\n",
    "    def __init__(self, N=2, D=2, tgt_loc=np.array([0.2,0.1]),\n",
    "                 tgt_vec=np.array([0.5,1.0]),\n",
    "                 polynomial_order=4, polynomial_coefficients=None):\n",
    "\n",
    "        \"\"\"\n",
    "        Constructor\n",
    "\n",
    "        Args:\n",
    "\n",
    "        N (int): Dimension of vector field. (Dimension of the input vectors) Default: 2\n",
    "\n",
    "        D (int): Dimension domain hypercube. (Dimension of output vectors) Default: 2\n",
    "\n",
    "        tgt_loc (ndarray(D)): Location of target value. Default:\n",
    "        np.array([0.2,0.1])\n",
    "\n",
    "        tgt_vec (ndarray(N)): Target value. Default: np.array([0.5,1.0])\n",
    "\n",
    "        polynomial_order (int): Order of random polynomial chosen for vector\n",
    "        field component functions. Default: 4\n",
    "\n",
    "        polynomial_coefficients (None or dict): If\n",
    "        None, the polynomial coefficients are chosen randomly and the resulting\n",
    "        polynomial is adjusted to give the target value at the target location.\n",
    "        The resulting coefficients are stored in a dict at self.p_coef.\n",
    "        Otherwise, the polynomial from the provided coefficients is adjusted to\n",
    "        give the target value at the target location, coded in a dict as\n",
    "        expected by the code. Default: None\n",
    "        \"\"\"\n",
    "\n",
    "        self.N = N\n",
    "        self.D = D\n",
    "        self.tgt_loc = tgt_loc\n",
    "        self.tgt_vec = tgt_vec\n",
    "        self.polynomial_order = polynomial_order\n",
    "\n",
    "        if polynomial_coefficients is None:\n",
    "            self._set_pcoef()\n",
    "        else:\n",
    "            self.pcoef = polynomial_coefficients\n",
    "            \n",
    "        # Adjust coefficients to hit target\n",
    "\n",
    "        v0 = self._vf(tgt_loc)\n",
    "\n",
    "        self.pcoef[0][:] = self.pcoef[0][:] - v0 + tgt_vec\n",
    "\n",
    "#########################################\n",
    "    def _set_pcoef(self):\n",
    "        \"\"\"\n",
    "        Set polynomial coefficients randomly\n",
    "        \"\"\"\n",
    "\n",
    "        self.pcoef={}\n",
    "        self.pcoef[0] = uniform.rvs(size=self.N)\n",
    "\n",
    "        for m in range(1,self.polynomial_order+1):\n",
    "            shp = np.empty(m+1, dtype=int)\n",
    "            shp[0] = self.N\n",
    "            shp[1:] = self.D\n",
    "            sz=self.D**m * self.N\n",
    "            arr = uniform.rvs(size=sz).reshape(shp)\n",
    "            self.pcoef[m] = arr\n",
    "\n",
    "\n",
    "#########################################\n",
    "    def _vf(self, loc):\n",
    "        \"\"\"\n",
    "        Compute the value of the vector field at location loc\n",
    "        \"\"\"\n",
    "\n",
    "        v = self.pcoef[0]\n",
    "        mf = 1\n",
    "        for m in range(1,self.polynomial_order+1):\n",
    "            mf *= m\n",
    "            c = np.copy(self.pcoef[m])\n",
    "            for l in range(m):\n",
    "                c = np.dot(c, loc)\n",
    "            v = v + c / mf\n",
    "\n",
    "        return v\n",
    "\n",
    "#########################################\n",
    "    def __call__(self, loc):\n",
    "        \"\"\"\n",
    "        Return the value of the vector field at location loc\n",
    "        \"\"\"\n",
    "        x = loc\n",
    "        x = x.reshape(x.shape[0], self.D)\n",
    "        out = torch.zeros(x.shape[0], self.N)\n",
    "        for i in range(x.shape[0]):\n",
    "            out[i] = torch.Tensor(self._vf(x[i])) + torch.randn(torch.Tensor(self._vf(x[i])).size()) * math.sqrt(0.04)\n",
    "        return out"
   ]
  },
  {
   "cell_type": "code",
   "execution_count": 14,
   "id": "f2612550",
   "metadata": {},
   "outputs": [
    {
     "name": "stdout",
     "output_type": "stream",
     "text": [
      "tensor([[1.0764, 1.1626],\n",
      "        [0.6713, 1.1688],\n",
      "        [2.0259, 2.3707],\n",
      "        ...,\n",
      "        [1.4775, 1.7728],\n",
      "        [1.1406, 1.4600],\n",
      "        [0.9395, 1.4209]])\n"
     ]
    }
   ],
   "source": [
    "x = np.random.rand(2000,2)\n",
    "vfield = VField()\n",
    "y = vfield(x)\n",
    "y.shape\n",
    "print(y)"
   ]
  },
  {
   "cell_type": "code",
   "execution_count": 27,
   "id": "3bb562d9",
   "metadata": {},
   "outputs": [
    {
     "name": "stdout",
     "output_type": "stream",
     "text": [
      "(1000, 3)\n",
      "tensor([[1.0294, 1.1265, 2.4629],\n",
      "        [1.0378, 1.7697, 2.4573],\n",
      "        [0.6474, 1.4997, 1.9892],\n",
      "        ...,\n",
      "        [2.7781, 3.3107, 4.5445],\n",
      "        [0.9065, 1.1124, 2.3897],\n",
      "        [1.2148, 1.9630, 2.6548]])\n"
     ]
    },
    {
     "data": {
      "text/plain": [
       "torch.Size([1000, 3])"
      ]
     },
     "execution_count": 27,
     "metadata": {},
     "output_type": "execute_result"
    }
   ],
   "source": [
    "x = np.random.rand(1000, 3)\n",
    "print(x.shape)\n",
    "vfield = VField(N=3, D=3, tgt_loc=np.array([0.1, 0, 1]),\n",
    "                 tgt_vec=np.array([0.5, 1.0, 2.0]))\n",
    "y = vfield(x)\n",
    "print(y)\n",
    "y.shape"
   ]
  },
  {
   "cell_type": "code",
   "execution_count": null,
   "id": "7c75b9ba",
   "metadata": {},
   "outputs": [],
   "source": []
  }
 ],
 "metadata": {
  "kernelspec": {
   "display_name": "Python 3 (ipykernel)",
   "language": "python",
   "name": "python3"
  },
  "language_info": {
   "codemirror_mode": {
    "name": "ipython",
    "version": 3
   },
   "file_extension": ".py",
   "mimetype": "text/x-python",
   "name": "python",
   "nbconvert_exporter": "python",
   "pygments_lexer": "ipython3",
   "version": "3.8.3"
  }
 },
 "nbformat": 4,
 "nbformat_minor": 5
}

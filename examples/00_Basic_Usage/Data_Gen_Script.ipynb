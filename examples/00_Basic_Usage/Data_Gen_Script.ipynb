{
 "cells": [
  {
   "cell_type": "code",
   "execution_count": 88,
   "id": "ce0dafa1",
   "metadata": {},
   "outputs": [],
   "source": [
    "# Support for simulating a vector field over a hypercube, with a known value at\n",
    "# a selected point.\n",
    "#\n",
    "# Carlo Graziani, ANL\n",
    "#\n",
    "\"\"\"\n",
    "Support for simulating a vector field over a hypercube, with a known value at a\n",
    "selected point.\n",
    "\"\"\"\n",
    "\n",
    "import torch\n",
    "import numpy as np\n",
    "from scipy.stats import uniform\n",
    "import math\n",
    "\n",
    "\n",
    "######################################################################\n",
    "######################################################################\n",
    "######################################################################\n",
    "class VField(object):\n",
    "    \"\"\"\n",
    "    An N-dimensional vector field over a D-dimensional hypercube, with\n",
    "    a given value at a given point.\n",
    "    \"\"\"\n",
    "#########################################\n",
    "    def __init__(self, N=2, D=2, tgt_loc=np.array([0.2,0.1]),\n",
    "                 tgt_vec=np.array([0.5,1.0]),\n",
    "                 polynomial_order=4, polynomial_coefficients=None):\n",
    "\n",
    "        \"\"\"\n",
    "        Constructor\n",
    "\n",
    "        Args:\n",
    "\n",
    "        N (int): Dimension of vector field. Default: 2\n",
    "\n",
    "        D (int): Dimension domain hypercube. Default: 2\n",
    "\n",
    "        tgt_loc (ndarray(D)): Location of target value. Default:\n",
    "        np.array([0.2,0.1])\n",
    "\n",
    "        tgt_vec (ndarray(N)): Target value. Default: np.array([0.5,1.0])\n",
    "\n",
    "        polynomial_order (int): Order of random polynomial chosen for vector\n",
    "        field component functions. Default: 4\n",
    "\n",
    "        polynomial_coefficients (None or dict): If\n",
    "        None, the polynomial coefficients are chosen randomly and the resulting\n",
    "        polynomial is adjusted to give the target value at the target location.\n",
    "        The resulting coefficients are stored in a dict at self.p_coef.\n",
    "        Otherwise, the polynomial from the provided coefficients is adjusted to\n",
    "        give the target value at the target location, coded in a dict as\n",
    "        expected by the code. Default: None\n",
    "        \"\"\"\n",
    "\n",
    "        self.N = N\n",
    "        self.D = D\n",
    "        self.tgt_loc = tgt_loc\n",
    "        self.tgt_vec = tgt_vec\n",
    "        self.polynomial_order = polynomial_order\n",
    "\n",
    "        if polynomial_coefficients is None:\n",
    "            self._set_pcoef()\n",
    "        else:\n",
    "            self.pcoef = polynomial_coefficients\n",
    "            \n",
    "        # Adjust coefficients to hit target\n",
    "\n",
    "        v0 = self._vf(tgt_loc)\n",
    "\n",
    "        self.pcoef[0][:] = self.pcoef[0][:] - v0 + tgt_vec\n",
    "\n",
    "#########################################\n",
    "    def _set_pcoef(self):\n",
    "        \"\"\"\n",
    "        Set polynomial coefficients randomly\n",
    "        \"\"\"\n",
    "\n",
    "        self.pcoef={}\n",
    "        self.pcoef[0] = uniform.rvs(size=self.N)\n",
    "\n",
    "        for m in range(1,self.polynomial_order+1):\n",
    "            shp = np.empty(m+1, dtype=int)\n",
    "            shp[0] = self.N\n",
    "            shp[1:] = self.D\n",
    "            sz=self.D**m * self.N\n",
    "            arr = uniform.rvs(size=sz).reshape(shp)\n",
    "            self.pcoef[m] = arr\n",
    "\n",
    "\n",
    "#########################################\n",
    "    def _vf(self, loc):\n",
    "        \"\"\"\n",
    "        Compute the value of the vector field at location loc\n",
    "        \"\"\"\n",
    "\n",
    "        v = self.pcoef[0]\n",
    "        mf = 1\n",
    "        for m in range(1,self.polynomial_order+1):\n",
    "            mf *= m\n",
    "            c = np.copy(self.pcoef[m])\n",
    "            for l in range(m):\n",
    "                c = np.dot(c, loc)\n",
    "            v = v + c / mf\n",
    "\n",
    "        return v\n",
    "\n",
    "#########################################\n",
    "    def __call__(self, loc):\n",
    "        \"\"\"\n",
    "        Return the value of the vector field at location loc\n",
    "        \"\"\"\n",
    "        x = loc\n",
    "        x = x.reshape(x.shape[0], self.D)\n",
    "        out = torch.zeros(x.shape[0], self.N)\n",
    "        for i in range(x.shape[0]):\n",
    "            out[i] = torch.Tensor(self._vf(x[i])) + torch.randn(torch.Tensor(self._vf(x[i])).size()) * math.sqrt(0.04)\n",
    "        return out"
   ]
  },
  {
   "cell_type": "code",
   "execution_count": 90,
   "id": "f2612550",
   "metadata": {},
   "outputs": [
    {
     "name": "stdout",
     "output_type": "stream",
     "text": [
      "tensor([[2.1348, 2.7311],\n",
      "        [0.3333, 0.9335],\n",
      "        [2.5169, 2.7587],\n",
      "        ...,\n",
      "        [2.7247, 2.5744],\n",
      "        [1.7040, 2.2485],\n",
      "        [2.1224, 3.1117]])\n"
     ]
    }
   ],
   "source": [
    "x = np.random.rand(10000,2)\n",
    "vfield = VField()\n",
    "y = vfield(x)\n",
    "y.shape\n",
    "print(y)"
   ]
  },
  {
   "cell_type": "code",
   "execution_count": 91,
   "id": "3bb562d9",
   "metadata": {},
   "outputs": [
    {
     "data": {
      "text/plain": [
       "torch.Size([1000, 2])"
      ]
     },
     "execution_count": 91,
     "metadata": {},
     "output_type": "execute_result"
    }
   ],
   "source": [
    "y.shape"
   ]
  },
  {
   "cell_type": "code",
   "execution_count": null,
   "id": "7c75b9ba",
   "metadata": {},
   "outputs": [],
   "source": []
  }
 ],
 "metadata": {
  "kernelspec": {
   "display_name": "Python 3 (ipykernel)",
   "language": "python",
   "name": "python3"
  },
  "language_info": {
   "codemirror_mode": {
    "name": "ipython",
    "version": 3
   },
   "file_extension": ".py",
   "mimetype": "text/x-python",
   "name": "python",
   "nbconvert_exporter": "python",
   "pygments_lexer": "ipython3",
   "version": "3.8.3"
  }
 },
 "nbformat": 4,
 "nbformat_minor": 5
}

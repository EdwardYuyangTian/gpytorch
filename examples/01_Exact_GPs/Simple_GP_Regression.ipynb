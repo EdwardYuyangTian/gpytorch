{
 "cells": [
  {
   "cell_type": "markdown",
   "metadata": {},
   "source": [
    "# GPyTorch Regression Tutorial\n",
    "\n",
    "## Introduction\n",
    "\n",
    "In this notebook, we demonstrate many of the design features of GPyTorch using the simplest example, training an RBF kernel Gaussian process on a simple function. We'll be modeling the function\n",
    "\n",
    "\\begin{align}\n",
    "y &= \\sin(2\\pi x) + \\epsilon \\\\\n",
    "  \\epsilon &\\sim \\mathcal{N}(0, 0.04) \n",
    "\\end{align}\n",
    "\n",
    "with 100 training examples, and testing on 51 test examples.\n",
    "\n",
    "**Note:** this notebook is not necessarily intended to teach the mathematical background of Gaussian processes, but rather how to train a simple one and make predictions in GPyTorch. For a mathematical treatment, Chapter 2 of Gaussian Processes for Machine Learning provides a very thorough introduction to GP regression (this entire text is highly recommended): http://www.gaussianprocess.org/gpml/chapters/RW2.pdf"
   ]
  },
  {
   "cell_type": "code",
   "execution_count": 2,
   "metadata": {},
   "outputs": [
    {
     "ename": "ModuleNotFoundError",
     "evalue": "No module named 'torch'",
     "output_type": "error",
     "traceback": [
      "\u001b[0;31m---------------------------------------------------------------------------\u001b[0m",
      "\u001b[0;31mModuleNotFoundError\u001b[0m                       Traceback (most recent call last)",
      "\u001b[1;32m/Users/tianyuyang/Desktop/Argonne Project/gpytorch/examples/01_Exact_GPs/Simple_GP_Regression.ipynb Cell 2\u001b[0m in \u001b[0;36m<cell line: 2>\u001b[0;34m()\u001b[0m\n\u001b[1;32m      <a href='vscode-notebook-cell:/Users/tianyuyang/Desktop/Argonne%20Project/gpytorch/examples/01_Exact_GPs/Simple_GP_Regression.ipynb#ch0000001?line=0'>1</a>\u001b[0m \u001b[39mimport\u001b[39;00m \u001b[39mmath\u001b[39;00m\n\u001b[0;32m----> <a href='vscode-notebook-cell:/Users/tianyuyang/Desktop/Argonne%20Project/gpytorch/examples/01_Exact_GPs/Simple_GP_Regression.ipynb#ch0000001?line=1'>2</a>\u001b[0m \u001b[39mimport\u001b[39;00m \u001b[39mtorch\u001b[39;00m\n\u001b[1;32m      <a href='vscode-notebook-cell:/Users/tianyuyang/Desktop/Argonne%20Project/gpytorch/examples/01_Exact_GPs/Simple_GP_Regression.ipynb#ch0000001?line=2'>3</a>\u001b[0m \u001b[39mimport\u001b[39;00m \u001b[39mgpytorch\u001b[39;00m\n\u001b[1;32m      <a href='vscode-notebook-cell:/Users/tianyuyang/Desktop/Argonne%20Project/gpytorch/examples/01_Exact_GPs/Simple_GP_Regression.ipynb#ch0000001?line=3'>4</a>\u001b[0m \u001b[39mfrom\u001b[39;00m \u001b[39mmatplotlib\u001b[39;00m \u001b[39mimport\u001b[39;00m pyplot \u001b[39mas\u001b[39;00m plt\n",
      "\u001b[0;31mModuleNotFoundError\u001b[0m: No module named 'torch'"
     ]
    }
   ],
   "source": [
    "import math\n",
    "import torch\n",
    "import gpytorch\n",
    "from matplotlib import pyplot as plt\n",
    "\n",
    "%matplotlib inline\n",
    "%load_ext autoreload\n",
    "%autoreload 2"
   ]
  },
  {
   "cell_type": "markdown",
   "metadata": {},
   "source": [
    "### Set up training data\n",
    "\n",
    "In the next cell, we set up the training data for this example. We'll be using 100 regularly spaced points on [0,1] which we evaluate the function on and add Gaussian noise to get the training labels."
   ]
  },
  {
   "cell_type": "code",
   "execution_count": 2,
   "metadata": {},
   "outputs": [],
   "source": [
    "# Training data is 100 points in [0,1] inclusive regularly spaced\n",
    "train_x = torch.linspace(0, 1, 100)\n",
    "# True function is sin(2*pi*x) with Gaussian noise\n",
    "train_y = torch.sin(train_x * (2 * math.pi)) + torch.randn(train_x.size()) * math.sqrt(0.04)"
   ]
  },
  {
   "cell_type": "markdown",
   "metadata": {},
   "source": [
    "## Setting up the model\n",
    "\n",
    "The next cell demonstrates the most critical features of a user-defined Gaussian process model in GPyTorch. Building a GP model in GPyTorch is different in a number of ways.\n",
    "\n",
    "First in contrast to many existing GP packages, we do not provide full GP models for the user. Rather, we provide *the tools necessary to quickly construct one*. This is because we believe, analogous to building a neural network in standard PyTorch, it is important to have the flexibility to include whatever components are necessary. As can be seen in more complicated examples, this allows the user great flexibility in designing custom models.\n",
    "\n",
    "For most GP regression models, you will need to construct the following GPyTorch objects:\n",
    "\n",
    "1. A **GP Model** (`gpytorch.models.ExactGP`) -  This handles most of the inference.\n",
    "1. A **Likelihood** (`gpytorch.likelihoods.GaussianLikelihood`) - This is the most common likelihood used for GP regression.\n",
    "1. A **Mean** - This defines the prior mean of the GP.(If you don't know which mean to use, a `gpytorch.means.ConstantMean()` is a good place to start.)\n",
    "1. A **Kernel** - This defines the prior covariance of the GP.(If you don't know which kernel to use, a `gpytorch.kernels.ScaleKernel(gpytorch.kernels.RBFKernel())` is a good place to start).\n",
    "1. A **MultivariateNormal** Distribution (`gpytorch.distributions.MultivariateNormal`) - This is the object used to represent multivariate normal distributions.\n",
    "  \n",
    "  \n",
    "### The GP Model\n",
    "  \n",
    "The components of a user built (Exact, i.e. non-variational) GP model in GPyTorch are, broadly speaking:\n",
    "\n",
    "1. An `__init__` method that takes the training data and a likelihood, and constructs whatever objects are necessary for the model's `forward` method. This will most commonly include things like a mean module and a kernel module.\n",
    "\n",
    "2. A `forward` method that takes in some $n \\times d$ data `x` and returns a `MultivariateNormal` with the *prior* mean and covariance evaluated at `x`. In other words, we return the vector $\\mu(x)$ and the $n \\times n$ matrix $K_{xx}$ representing the prior mean and covariance matrix of the GP. \n",
    "\n",
    "This specification leaves a large amount of flexibility when defining a model. For example, to compose two kernels via addition, you can either add the kernel modules directly:\n",
    "\n",
    "```python\n",
    "self.covar_module = ScaleKernel(RBFKernel() + LinearKernel())\n",
    "```\n",
    "\n",
    "Or you can add the outputs of the kernel in the forward method:\n",
    "\n",
    "```python\n",
    "covar_x = self.rbf_kernel_module(x) + self.white_noise_module(x)\n",
    "```\n",
    "\n",
    "\n",
    "### The likelihood\n",
    "\n",
    "The simplest likelihood for regression is the `gpytorch.likelihoods.GaussianLikelihood`. This assumes a homoskedastic noise model (i.e. all inputs have the same observational noise).\n",
    "\n",
    "There are other options for exact GP regression, such as the [FixedNoiseGaussianLikelihood](http://docs.gpytorch.ai/likelihoods.html#fixednoisegaussianlikelihood), which assigns a different observed noise value to different training inputs."
   ]
  },
  {
   "cell_type": "code",
   "execution_count": 3,
   "metadata": {},
   "outputs": [],
   "source": [
    "# We will use the simplest form of GP model, exact inference\n",
    "class ExactGPModel(gpytorch.models.ExactGP):\n",
    "    def __init__(self, train_x, train_y, likelihood):\n",
    "        super(ExactGPModel, self).__init__(train_x, train_y, likelihood)\n",
    "        self.mean_module = gpytorch.means.ConstantMean()\n",
    "        self.covar_module = gpytorch.kernels.ScaleKernel(gpytorch.kernels.RBFKernel())\n",
    "    \n",
    "    def forward(self, x):\n",
    "        mean_x = self.mean_module(x)\n",
    "        covar_x = self.covar_module(x)\n",
    "        return gpytorch.distributions.MultivariateNormal(mean_x, covar_x)\n",
    "\n",
    "# initialize likelihood and model\n",
    "likelihood = gpytorch.likelihoods.GaussianLikelihood()\n",
    "model = ExactGPModel(train_x, train_y, likelihood)"
   ]
  },
  {
   "cell_type": "markdown",
   "metadata": {},
   "source": [
    "### Model modes\n",
    "\n",
    "Like most PyTorch modules, the `ExactGP` has a `.train()` and `.eval()` mode.\n",
    "- `.train()` mode is for optimizing model hyperameters.\n",
    "- `.eval()` mode is for computing predictions through the model posterior."
   ]
  },
  {
   "cell_type": "markdown",
   "metadata": {},
   "source": [
    "## Training the model\n",
    "\n",
    "In the next cell, we handle using Type-II MLE to train the hyperparameters of the Gaussian process.\n",
    "\n",
    "The most obvious difference here compared to many other GP implementations is that, as in standard PyTorch, the core training loop is written by the user. In GPyTorch, we make use of the standard PyTorch optimizers as from `torch.optim`, and all trainable parameters of the model should be of type `torch.nn.Parameter`. Because GP models directly extend `torch.nn.Module`, calls to methods like `model.parameters()` or `model.named_parameters()` function as you might expect coming from PyTorch.\n",
    "\n",
    "In most cases, the boilerplate code below will work well. It has the same basic components as the standard PyTorch training loop:\n",
    "\n",
    "1. Zero all parameter gradients\n",
    "2. Call the model and compute the loss\n",
    "3. Call backward on the loss to fill in gradients\n",
    "4. Take a step on the optimizer\n",
    "\n",
    "However, defining custom training loops allows for greater flexibility. For example, it is easy to save the parameters at each step of training, or use different learning rates for different parameters (which may be useful in deep kernel learning for example)."
   ]
  },
  {
   "cell_type": "code",
   "execution_count": 4,
   "metadata": {
    "scrolled": false
   },
   "outputs": [
    {
     "name": "stdout",
     "output_type": "stream",
     "text": [
      "Iter 1/50 - Loss: 0.935   lengthscale: 0.693   noise: 0.693\n",
      "Iter 2/50 - Loss: 0.904   lengthscale: 0.644   noise: 0.644\n",
      "Iter 3/50 - Loss: 0.871   lengthscale: 0.598   noise: 0.598\n",
      "Iter 4/50 - Loss: 0.833   lengthscale: 0.555   noise: 0.554\n",
      "Iter 5/50 - Loss: 0.791   lengthscale: 0.514   noise: 0.513\n",
      "Iter 6/50 - Loss: 0.744   lengthscale: 0.475   noise: 0.474\n",
      "Iter 7/50 - Loss: 0.694   lengthscale: 0.439   noise: 0.437\n",
      "Iter 8/50 - Loss: 0.644   lengthscale: 0.404   noise: 0.402\n",
      "Iter 9/50 - Loss: 0.595   lengthscale: 0.372   noise: 0.369\n",
      "Iter 10/50 - Loss: 0.551   lengthscale: 0.342   noise: 0.339\n",
      "Iter 11/50 - Loss: 0.511   lengthscale: 0.315   noise: 0.310\n",
      "Iter 12/50 - Loss: 0.475   lengthscale: 0.292   noise: 0.284\n",
      "Iter 13/50 - Loss: 0.440   lengthscale: 0.273   noise: 0.259\n",
      "Iter 14/50 - Loss: 0.406   lengthscale: 0.257   noise: 0.237\n",
      "Iter 15/50 - Loss: 0.373   lengthscale: 0.244   noise: 0.216\n",
      "Iter 16/50 - Loss: 0.340   lengthscale: 0.234   noise: 0.197\n",
      "Iter 17/50 - Loss: 0.308   lengthscale: 0.226   noise: 0.179\n",
      "Iter 18/50 - Loss: 0.276   lengthscale: 0.220   noise: 0.163\n",
      "Iter 19/50 - Loss: 0.245   lengthscale: 0.216   noise: 0.148\n",
      "Iter 20/50 - Loss: 0.214   lengthscale: 0.215   noise: 0.135\n",
      "Iter 21/50 - Loss: 0.185   lengthscale: 0.214   noise: 0.122\n",
      "Iter 22/50 - Loss: 0.156   lengthscale: 0.215   noise: 0.111\n",
      "Iter 23/50 - Loss: 0.128   lengthscale: 0.218   noise: 0.101\n",
      "Iter 24/50 - Loss: 0.102   lengthscale: 0.222   noise: 0.092\n",
      "Iter 25/50 - Loss: 0.079   lengthscale: 0.227   noise: 0.084\n",
      "Iter 26/50 - Loss: 0.057   lengthscale: 0.233   noise: 0.077\n",
      "Iter 27/50 - Loss: 0.038   lengthscale: 0.239   noise: 0.070\n",
      "Iter 28/50 - Loss: 0.021   lengthscale: 0.247   noise: 0.064\n",
      "Iter 29/50 - Loss: 0.008   lengthscale: 0.254   noise: 0.059\n",
      "Iter 30/50 - Loss: -0.002   lengthscale: 0.262   noise: 0.054\n",
      "Iter 31/50 - Loss: -0.009   lengthscale: 0.270   noise: 0.050\n",
      "Iter 32/50 - Loss: -0.013   lengthscale: 0.277   noise: 0.047\n",
      "Iter 33/50 - Loss: -0.014   lengthscale: 0.283   noise: 0.044\n",
      "Iter 34/50 - Loss: -0.013   lengthscale: 0.289   noise: 0.041\n",
      "Iter 35/50 - Loss: -0.010   lengthscale: 0.293   noise: 0.039\n",
      "Iter 36/50 - Loss: -0.007   lengthscale: 0.295   noise: 0.037\n",
      "Iter 37/50 - Loss: -0.003   lengthscale: 0.296   noise: 0.035\n",
      "Iter 38/50 - Loss: 0.001   lengthscale: 0.296   noise: 0.034\n",
      "Iter 39/50 - Loss: 0.004   lengthscale: 0.294   noise: 0.033\n",
      "Iter 40/50 - Loss: 0.006   lengthscale: 0.291   noise: 0.033\n",
      "Iter 41/50 - Loss: 0.007   lengthscale: 0.287   noise: 0.032\n",
      "Iter 42/50 - Loss: 0.007   lengthscale: 0.283   noise: 0.032\n",
      "Iter 43/50 - Loss: 0.007   lengthscale: 0.278   noise: 0.032\n",
      "Iter 44/50 - Loss: 0.005   lengthscale: 0.273   noise: 0.033\n",
      "Iter 45/50 - Loss: 0.003   lengthscale: 0.268   noise: 0.033\n",
      "Iter 46/50 - Loss: 0.001   lengthscale: 0.263   noise: 0.034\n",
      "Iter 47/50 - Loss: -0.002   lengthscale: 0.260   noise: 0.034\n",
      "Iter 48/50 - Loss: -0.004   lengthscale: 0.257   noise: 0.035\n",
      "Iter 49/50 - Loss: -0.006   lengthscale: 0.255   noise: 0.036\n",
      "Iter 50/50 - Loss: -0.008   lengthscale: 0.254   noise: 0.037\n"
     ]
    },
    {
     "name": "stderr",
     "output_type": "stream",
     "text": [
      "/opt/anaconda3/lib/python3.8/site-packages/gpytorch/lazy/triangular_lazy_tensor.py:130: UserWarning: torch.triangular_solve is deprecated in favor of torch.linalg.solve_triangularand will be removed in a future PyTorch release.\n",
      "torch.linalg.solve_triangular has its arguments reversed and does not return a copy of one of the inputs.\n",
      "X = torch.triangular_solve(B, A).solution\n",
      "should be replaced with\n",
      "X = torch.linalg.solve_triangular(A, B). (Triggered internally at  /Users/distiller/project/conda/conda-bld/pytorch_1646755922314/work/aten/src/ATen/native/BatchLinearAlgebra.cpp:1672.)\n",
      "  res = torch.triangular_solve(right_tensor, self.evaluate(), upper=self.upper).solution\n"
     ]
    }
   ],
   "source": [
    "# this is for running the notebook in our testing framework\n",
    "import os\n",
    "smoke_test = ('CI' in os.environ)\n",
    "training_iter = 2 if smoke_test else 50\n",
    "\n",
    "\n",
    "# Find optimal model hyperparameters\n",
    "model.train()\n",
    "likelihood.train()\n",
    "\n",
    "# Use the adam optimizer\n",
    "optimizer = torch.optim.Adam(model.parameters(), lr=0.1)  # Includes GaussianLikelihood parameters\n",
    "\n",
    "# \"Loss\" for GPs - the marginal log likelihood\n",
    "mll = gpytorch.mlls.ExactMarginalLogLikelihood(likelihood, model)\n",
    "\n",
    "for i in range(training_iter):\n",
    "    # Zero gradients from previous iteration\n",
    "    optimizer.zero_grad()\n",
    "    # Output from model\n",
    "    output = model(train_x)\n",
    "    # Calc loss and backprop gradients\n",
    "    loss = -mll(output, train_y)\n",
    "    loss.backward()\n",
    "    print('Iter %d/%d - Loss: %.3f   lengthscale: %.3f   noise: %.3f' % (\n",
    "        i + 1, training_iter, loss.item(),\n",
    "        model.covar_module.base_kernel.lengthscale.item(),\n",
    "        model.likelihood.noise.item()\n",
    "    ))\n",
    "    optimizer.step()"
   ]
  },
  {
   "cell_type": "markdown",
   "metadata": {},
   "source": [
    "## Make predictions with the model\n",
    "\n",
    "In the next cell, we make predictions with the model. To do this, we simply put the model and likelihood in eval mode, and call both modules on the test data.\n",
    "\n",
    "Just as a user defined GP model returns a `MultivariateNormal` containing the prior mean and covariance from forward, a trained GP model in eval mode returns a `MultivariateNormal` containing the posterior mean and covariance. Thus, getting the predictive mean and variance, and then sampling functions from the GP at the given test points could be accomplished with calls like:\n",
    "\n",
    "```python\n",
    "f_preds = model(test_x)\n",
    "y_preds = likelihood(model(test_x))\n",
    "\n",
    "f_mean = f_preds.mean\n",
    "f_var = f_preds.variance\n",
    "f_covar = f_preds.covariance_matrix\n",
    "f_samples = f_preds.sample(sample_shape=torch.Size(1000,))\n",
    "```\n",
    "\n",
    "The `gpytorch.settings.fast_pred_var` context is not needed, but here we are giving a preview of using one of our cool features, getting faster predictive distributions using [LOVE](https://arxiv.org/abs/1803.06058)."
   ]
  },
  {
   "cell_type": "code",
   "execution_count": 31,
   "metadata": {},
   "outputs": [
    {
     "name": "stdout",
     "output_type": "stream",
     "text": [
      "f_mean: tensor([-0.1109,  0.0391,  0.1865,  0.3285,  0.4621,  0.5850,  0.6948,  0.7896,\n",
      "         0.8681,  0.9293,  0.9727,  0.9981,  1.0058,  0.9965,  0.9711,  0.9306,\n",
      "         0.8764,  0.8098,  0.7324,  0.6456,  0.5507,  0.4493,  0.3426,  0.2320,\n",
      "         0.1188,  0.0044, -0.1101, -0.2232, -0.3336, -0.4397, -0.5401, -0.6333,\n",
      "        -0.7178, -0.7920, -0.8546, -0.9043, -0.9400, -0.9608, -0.9662, -0.9560,\n",
      "        -0.9302, -0.8893, -0.8341, -0.7660, -0.6863, -0.5970, -0.5000, -0.3977,\n",
      "        -0.2922, -0.1861, -0.0815])\n",
      " f_var: tensor([0.0084, 0.0052, 0.0035, 0.0027, 0.0024, 0.0023, 0.0023, 0.0023, 0.0022,\n",
      "        0.0022, 0.0021, 0.0020, 0.0020, 0.0020, 0.0019, 0.0019, 0.0019, 0.0019,\n",
      "        0.0019, 0.0019, 0.0019, 0.0019, 0.0019, 0.0019, 0.0019, 0.0019, 0.0019,\n",
      "        0.0019, 0.0019, 0.0019, 0.0019, 0.0019, 0.0019, 0.0019, 0.0019, 0.0019,\n",
      "        0.0019, 0.0020, 0.0020, 0.0020, 0.0021, 0.0022, 0.0022, 0.0023, 0.0023,\n",
      "        0.0023, 0.0024, 0.0027, 0.0035, 0.0052, 0.0084])\n",
      " f_covar: tensor([[ 8.4479e-03,  6.4462e-03,  4.6573e-03,  ..., -4.7144e-05,\n",
      "         -2.6576e-05,  8.8849e-06],\n",
      "        [ 6.4459e-03,  5.2214e-03,  4.0758e-03,  ..., -3.0503e-05,\n",
      "         -3.2396e-05, -2.6582e-05],\n",
      "        [ 4.6573e-03,  4.0755e-03,  3.4785e-03,  ..., -1.2773e-05,\n",
      "         -3.0505e-05, -4.7143e-05],\n",
      "        ...,\n",
      "        [-4.7146e-05, -3.0503e-05, -1.2775e-05,  ...,  3.4784e-03,\n",
      "          4.0755e-03,  4.6568e-03],\n",
      "        [-2.6575e-05, -3.2397e-05, -3.0504e-05,  ...,  4.0755e-03,\n",
      "          5.2205e-03,  6.4462e-03],\n",
      "        [ 8.8889e-06, -2.6579e-05, -4.7145e-05,  ...,  4.6568e-03,\n",
      "          6.4462e-03,  8.4473e-03]])\n",
      "y_mean: tensor([-0.1109,  0.0391,  0.1865,  0.3285,  0.4621,  0.5850,  0.6948,  0.7896,\n",
      "         0.8681,  0.9293,  0.9727,  0.9981,  1.0058,  0.9965,  0.9711,  0.9306,\n",
      "         0.8764,  0.8098,  0.7324,  0.6456,  0.5507,  0.4493,  0.3426,  0.2320,\n",
      "         0.1188,  0.0044, -0.1101, -0.2232, -0.3336, -0.4397, -0.5401, -0.6333,\n",
      "        -0.7178, -0.7920, -0.8546, -0.9043, -0.9400, -0.9608, -0.9662, -0.9560,\n",
      "        -0.9302, -0.8893, -0.8341, -0.7660, -0.6863, -0.5970, -0.5000, -0.3977,\n",
      "        -0.2922, -0.1861, -0.0815])\n",
      " y_var: tensor([0.0465, 0.0433, 0.0415, 0.0407, 0.0404, 0.0403, 0.0403, 0.0403, 0.0403,\n",
      "        0.0402, 0.0401, 0.0401, 0.0400, 0.0400, 0.0400, 0.0400, 0.0400, 0.0400,\n",
      "        0.0400, 0.0400, 0.0400, 0.0400, 0.0400, 0.0400, 0.0400, 0.0400, 0.0400,\n",
      "        0.0400, 0.0400, 0.0400, 0.0400, 0.0400, 0.0400, 0.0400, 0.0400, 0.0400,\n",
      "        0.0400, 0.0400, 0.0400, 0.0401, 0.0401, 0.0402, 0.0403, 0.0403, 0.0403,\n",
      "        0.0403, 0.0404, 0.0407, 0.0415, 0.0433, 0.0465])\n",
      " y_covar: tensor([[ 4.6503e-02,  6.4462e-03,  4.6573e-03,  ..., -4.7144e-05,\n",
      "         -2.6576e-05,  8.8849e-06],\n",
      "        [ 6.4459e-03,  4.3276e-02,  4.0758e-03,  ..., -3.0503e-05,\n",
      "         -3.2396e-05, -2.6582e-05],\n",
      "        [ 4.6573e-03,  4.0755e-03,  4.1534e-02,  ..., -1.2773e-05,\n",
      "         -3.0505e-05, -4.7143e-05],\n",
      "        ...,\n",
      "        [-4.7146e-05, -3.0503e-05, -1.2775e-05,  ...,  4.1534e-02,\n",
      "          4.0755e-03,  4.6568e-03],\n",
      "        [-2.6575e-05, -3.2397e-05, -3.0504e-05,  ...,  4.0755e-03,\n",
      "          4.3276e-02,  6.4462e-03],\n",
      "        [ 8.8889e-06, -2.6579e-05, -4.7145e-05,  ...,  4.6568e-03,\n",
      "          6.4462e-03,  4.6502e-02]])\n",
      "     y_confidenceRegion: (tensor([-0.5422, -0.3770, -0.2211, -0.0751,  0.0601,  0.1833,  0.2931,  0.3880,\n",
      "         0.4668,  0.5283,  0.5720,  0.5977,  0.6057,  0.5965,  0.5710,  0.5306,\n",
      "         0.4764,  0.4099,  0.3325,  0.2457,  0.1509,  0.0495, -0.0571, -0.1677,\n",
      "        -0.2809, -0.3954, -0.5099, -0.6230, -0.7334, -0.8395, -0.9400, -1.0332,\n",
      "        -1.1177, -1.1920, -1.2546, -1.3043, -1.3400, -1.3609, -1.3664, -1.3563,\n",
      "        -1.3308, -1.2903, -1.2355, -1.1676, -1.0880, -0.9987, -0.9021, -0.8012,\n",
      "        -0.6998, -0.6022, -0.5128]), tensor([ 0.3204,  0.4551,  0.5941,  0.7320,  0.8642,  0.9867,  1.0964,  1.1912,\n",
      "         1.2695,  1.3304,  1.3734,  1.3985,  1.4060,  1.3966,  1.3711,  1.3306,\n",
      "         1.2764,  1.2098,  1.1324,  1.0455,  0.9506,  0.8491,  0.7424,  0.6318,\n",
      "         0.5186,  0.4041,  0.2896,  0.1765,  0.0662, -0.0399, -0.1403, -0.2335,\n",
      "        -0.3179, -0.3920, -0.4546, -0.5043, -0.5400, -0.5608, -0.5661, -0.5556,\n",
      "        -0.5295, -0.4882, -0.4327, -0.3644, -0.2846, -0.1953, -0.0980,  0.0059,\n",
      "         0.1154,  0.2300,  0.3498]))\n"
     ]
    }
   ],
   "source": [
    "# Get into evaluation (predictive posterior) mode\n",
    "model.eval()\n",
    "likelihood.eval()\n",
    "\n",
    "# Test points are regularly spaced along [0,1]\n",
    "# Make predictions by feeding model through likelihood\n",
    "with torch.no_grad(): #, gpytorch.settings.fast_pred_var():\n",
    "    test_x = torch.linspace(0, 1, 51)\n",
    "    observed_pred = likelihood(model(test_x))\n",
    "    f_preds = model(test_x)\n",
    "    y_preds = likelihood(model(test_x))\n",
    "    \n",
    "    \n",
    "    \n",
    "    print(f'f_mean: {f_preds.mean}\\n f_var: {f_preds.variance}\\n f_covar: {f_preds.covariance_matrix}')\n",
    "    \n",
    "    lower, upper = y_preds.confidence_region()\n",
    "    print(f'y_mean: {y_preds.mean}\\n y_var: {y_preds.variance}\\n y_covar: {y_preds.covariance_matrix}\\n \\\n",
    "    y_confidenceRegion: {lower, upper}')"
   ]
  },
  {
   "cell_type": "markdown",
   "metadata": {},
   "source": [
    "## Plot the model fit\n",
    "\n",
    "In the next cell, we plot the mean and confidence region of the Gaussian process model. The `confidence_region` method is a helper method that returns 2 standard deviations above and below the mean."
   ]
  },
  {
   "cell_type": "code",
   "execution_count": 20,
   "metadata": {
    "scrolled": false
   },
   "outputs": [
    {
     "data": {
      "image/png": "[encoded data removed]",
      "text/plain": [
       "<Figure size 288x216 with 1 Axes>"
      ]
     },
     "metadata": {
      "needs_background": "light"
     },
     "output_type": "display_data"
    }
   ],
   "source": [
    "with torch.no_grad():\n",
    "    # Initialize plot\n",
    "    f, ax = plt.subplots(1, 1, figsize=(4, 3))\n",
    "\n",
    "    # Get upper and lower confidence bounds\n",
    "    lower, upper = observed_pred.confidence_region()\n",
    "    # Plot training data as black stars\n",
    "    ax.plot(train_x.numpy(), train_y.numpy(), 'k*')\n",
    "    # Plot predictive means as blue line\n",
    "    ax.plot(test_x.numpy(), observed_pred.mean.numpy(), 'b')\n",
    "    # Shade between the lower and upper confidence bounds\n",
    "    ax.fill_between(test_x.numpy(), lower.numpy(), upper.numpy(), alpha=0.5)\n",
    "    ax.set_ylim([-3, 3])\n",
    "    ax.legend(['Observed Data', 'Mean', 'Confidence'])"
   ]
  },
  {
   "cell_type": "code",
   "execution_count": 64,
   "metadata": {},
   "outputs": [],
   "source": [
    "f_samples = f_preds.sample(torch.Size([1000,]))"
   ]
  },
  {
   "cell_type": "code",
   "execution_count": 65,
   "metadata": {},
   "outputs": [
    {
     "name": "stdout",
     "output_type": "stream",
     "text": [
      "tensor([[-0.1012,  0.0996,  0.2724,  ..., -0.2332, -0.1388, -0.0386],\n",
      "        [-0.2491, -0.0568,  0.1323,  ..., -0.2718, -0.1486, -0.0176],\n",
      "        [-0.1116,  0.0156,  0.1480,  ..., -0.2683, -0.1431, -0.0035],\n",
      "        ...,\n",
      "        [-0.0840,  0.0917,  0.2503,  ..., -0.2761, -0.1641, -0.0445],\n",
      "        [-0.0730,  0.0386,  0.1555,  ..., -0.2826, -0.1616, -0.0472],\n",
      "        [ 0.0211,  0.1313,  0.2467,  ..., -0.3836, -0.2757, -0.1654]])\n"
     ]
    }
   ],
   "source": [
    "f_samples.shape\n",
    "print(f_samples)"
   ]
  },
  {
   "cell_type": "code",
   "execution_count": 66,
   "metadata": {},
   "outputs": [
    {
     "name": "stdout",
     "output_type": "stream",
     "text": [
      "tensor([-0.2491, -0.0568,  0.1323,  0.3003,  0.4469,  0.5768,  0.6956,  0.7904,\n",
      "         0.8752,  0.9301,  0.9732,  1.0014,  1.0099,  0.9985,  0.9887,  0.9476,\n",
      "         0.8974,  0.8403,  0.7597,  0.6859,  0.5931,  0.4870,  0.3791,  0.2652,\n",
      "         0.1505,  0.0263, -0.0869, -0.2092, -0.3164, -0.4314, -0.5362, -0.6309,\n",
      "        -0.7105, -0.7878, -0.8456, -0.8888, -0.9267, -0.9498, -0.9554, -0.9474,\n",
      "        -0.9257, -0.8847, -0.8394, -0.7739, -0.6955, -0.6069, -0.5002, -0.3981,\n",
      "        -0.2718, -0.1486, -0.0176])\n"
     ]
    },
    {
     "data": {
      "image/png": "[encoded data removed]",
      "text/plain": [
       "<Figure size 288x216 with 1 Axes>"
      ]
     },
     "metadata": {
      "needs_background": "light"
     },
     "output_type": "display_data"
    }
   ],
   "source": [
    "f, ax = plt.subplots(1, 1, figsize=(4, 3))\n",
    "ax.plot(test_x, f_samples[1,:], 'b')\n",
    "ax.plot(test_x, f_samples[2,:], 'r')\n",
    "print(f_samples[1, :])"
   ]
  },
  {
   "cell_type": "code",
   "execution_count": null,
   "metadata": {},
   "outputs": [],
   "source": []
  }
 ],
 "metadata": {
  "anaconda-cloud": {},
  "kernelspec": {
   "display_name": "Python 3 (ipykernel)",
   "language": "python",
   "name": "python3"
  },
  "language_info": {
   "codemirror_mode": {
    "name": "ipython",
    "version": 3
   },
   "file_extension": ".py",
   "mimetype": "text/x-python",
   "name": "python",
   "nbconvert_exporter": "python",
   "pygments_lexer": "ipython3",
   "version": "3.8.3"
  },
  "vscode": {
   "interpreter": {
    "hash": "aee8b7b246df8f9039afb4144a1f6fd8d2ca17a180786b69acc140d282b71a49"
   }
  }
 },
 "nbformat": 4,
 "nbformat_minor": 1
}

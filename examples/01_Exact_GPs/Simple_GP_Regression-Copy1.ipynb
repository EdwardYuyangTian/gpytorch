{
 "cells": [
  {
   "cell_type": "markdown",
   "metadata": {},
   "source": [
    "# GPyTorch Regression Tutorial\n",
    "\n",
    "## Introduction\n",
    "\n",
    "In this notebook, we demonstrate many of the design features of GPyTorch using the simplest example, training an RBF kernel Gaussian process on a simple function. We'll be modeling the function\n",
    "\n",
    "\\begin{align}\n",
    "y &= \\sin(2\\pi x) + \\epsilon \\\\\n",
    "  \\epsilon &\\sim \\mathcal{N}(0, 0.04) \n",
    "\\end{align}\n",
    "\n",
    "with 100 training examples, and testing on 51 test examples.\n",
    "\n",
    "**Note:** this notebook is not necessarily intended to teach the mathematical background of Gaussian processes, but rather how to train a simple one and make predictions in GPyTorch. For a mathematical treatment, Chapter 2 of Gaussian Processes for Machine Learning provides a very thorough introduction to GP regression (this entire text is highly recommended): http://www.gaussianprocess.org/gpml/chapters/RW2.pdf"
   ]
  },
  {
   "cell_type": "code",
   "execution_count": 2,
   "metadata": {},
   "outputs": [
    {
     "name": "stdout",
     "output_type": "stream",
     "text": [
      "The autoreload extension is already loaded. To reload it, use:\n",
      "  %reload_ext autoreload\n"
     ]
    }
   ],
   "source": [
    "import math\n",
    "import torch\n",
    "import gpytorch\n",
    "from matplotlib import pyplot as plt\n",
    "\n",
    "%matplotlib inline\n",
    "%load_ext autoreload\n",
    "%autoreload 2"
   ]
  },
  {
   "cell_type": "markdown",
   "metadata": {},
   "source": [
    "### Set up training data\n",
    "\n",
    "In the next cell, we set up the training data for this example. We'll be using 100 regularly spaced points on [0,1] which we evaluate the function on and add Gaussian noise to get the training labels."
   ]
  },
  {
   "cell_type": "code",
   "execution_count": 3,
   "metadata": {},
   "outputs": [],
   "source": [
    "# Training data is 100 points in [0,1] inclusive regularly spaced\n",
    "train_x = torch.linspace(0, 1, 100)\n",
    "# True function is sin(2*pi*x) with Gaussian noise\n",
    "train_y = torch.sin(train_x * (2 * math.pi)) + torch.randn(train_x.size()) * math.sqrt(0.04)"
   ]
  },
  {
   "cell_type": "markdown",
   "metadata": {},
   "source": [
    "## Setting up the model\n",
    "\n",
    "The next cell demonstrates the most critical features of a user-defined Gaussian process model in GPyTorch. Building a GP model in GPyTorch is different in a number of ways.\n",
    "\n",
    "First in contrast to many existing GP packages, we do not provide full GP models for the user. Rather, we provide *the tools necessary to quickly construct one*. This is because we believe, analogous to building a neural network in standard PyTorch, it is important to have the flexibility to include whatever components are necessary. As can be seen in more complicated examples, this allows the user great flexibility in designing custom models.\n",
    "\n",
    "For most GP regression models, you will need to construct the following GPyTorch objects:\n",
    "\n",
    "1. A **GP Model** (`gpytorch.models.ExactGP`) -  This handles most of the inference.\n",
    "1. A **Likelihood** (`gpytorch.likelihoods.GaussianLikelihood`) - This is the most common likelihood used for GP regression.\n",
    "1. A **Mean** - This defines the prior mean of the GP.(If you don't know which mean to use, a `gpytorch.means.ConstantMean()` is a good place to start.)\n",
    "1. A **Kernel** - This defines the prior covariance of the GP.(If you don't know which kernel to use, a `gpytorch.kernels.ScaleKernel(gpytorch.kernels.RBFKernel())` is a good place to start).\n",
    "1. A **MultivariateNormal** Distribution (`gpytorch.distributions.MultivariateNormal`) - This is the object used to represent multivariate normal distributions.\n",
    "  \n",
    "  \n",
    "### The GP Model\n",
    "  \n",
    "The components of a user built (Exact, i.e. non-variational) GP model in GPyTorch are, broadly speaking:\n",
    "\n",
    "1. An `__init__` method that takes the training data and a likelihood, and constructs whatever objects are necessary for the model's `forward` method. This will most commonly include things like a mean module and a kernel module.\n",
    "\n",
    "2. A `forward` method that takes in some $n \\times d$ data `x` and returns a `MultivariateNormal` with the *prior* mean and covariance evaluated at `x`. In other words, we return the vector $\\mu(x)$ and the $n \\times n$ matrix $K_{xx}$ representing the prior mean and covariance matrix of the GP. \n",
    "\n",
    "This specification leaves a large amount of flexibility when defining a model. For example, to compose two kernels via addition, you can either add the kernel modules directly:\n",
    "\n",
    "```python\n",
    "self.covar_module = ScaleKernel(RBFKernel() + LinearKernel())\n",
    "```\n",
    "\n",
    "Or you can add the outputs of the kernel in the forward method:\n",
    "\n",
    "```python\n",
    "covar_x = self.rbf_kernel_module(x) + self.white_noise_module(x)\n",
    "```\n",
    "\n",
    "\n",
    "### The likelihood\n",
    "\n",
    "The simplest likelihood for regression is the `gpytorch.likelihoods.GaussianLikelihood`. This assumes a homoskedastic noise model (i.e. all inputs have the same observational noise).\n",
    "\n",
    "There are other options for exact GP regression, such as the [FixedNoiseGaussianLikelihood](http://docs.gpytorch.ai/likelihoods.html#fixednoisegaussianlikelihood), which assigns a different observed noise value to different training inputs."
   ]
  },
  {
   "cell_type": "code",
   "execution_count": 4,
   "metadata": {},
   "outputs": [],
   "source": [
    "# We will use the simplest form of GP model, exact inference\n",
    "class ExactGPModel(gpytorch.models.ExactGP):\n",
    "    def __init__(self, train_x, train_y, likelihood):\n",
    "        super(ExactGPModel, self).__init__(train_x, train_y, likelihood)\n",
    "        self.mean_module = gpytorch.means.ConstantMean()\n",
    "        self.covar_module = gpytorch.kernels.ScaleKernel(gpytorch.kernels.RBFKernel())\n",
    "    \n",
    "    def forward(self, x):\n",
    "        mean_x = self.mean_module(x)\n",
    "        covar_x = self.covar_module(x)\n",
    "        return gpytorch.distributions.MultivariateNormal(mean_x, covar_x)\n",
    "\n",
    "# initialize likelihood and model\n",
    "likelihood = gpytorch.likelihoods.GaussianLikelihood()\n",
    "model = ExactGPModel(train_x, train_y, likelihood)"
   ]
  },
  {
   "cell_type": "markdown",
   "metadata": {},
   "source": [
    "### Model modes\n",
    "\n",
    "Like most PyTorch modules, the `ExactGP` has a `.train()` and `.eval()` mode.\n",
    "- `.train()` mode is for optimizing model hyperameters.\n",
    "- `.eval()` mode is for computing predictions through the model posterior."
   ]
  },
  {
   "cell_type": "markdown",
   "metadata": {},
   "source": [
    "## Training the model\n",
    "\n",
    "In the next cell, we handle using Type-II MLE to train the hyperparameters of the Gaussian process.\n",
    "\n",
    "The most obvious difference here compared to many other GP implementations is that, as in standard PyTorch, the core training loop is written by the user. In GPyTorch, we make use of the standard PyTorch optimizers as from `torch.optim`, and all trainable parameters of the model should be of type `torch.nn.Parameter`. Because GP models directly extend `torch.nn.Module`, calls to methods like `model.parameters()` or `model.named_parameters()` function as you might expect coming from PyTorch.\n",
    "\n",
    "In most cases, the boilerplate code below will work well. It has the same basic components as the standard PyTorch training loop:\n",
    "\n",
    "1. Zero all parameter gradients\n",
    "2. Call the model and compute the loss\n",
    "3. Call backward on the loss to fill in gradients\n",
    "4. Take a step on the optimizer\n",
    "\n",
    "However, defining custom training loops allows for greater flexibility. For example, it is easy to save the parameters at each step of training, or use different learning rates for different parameters (which may be useful in deep kernel learning for example)."
   ]
  },
  {
   "cell_type": "code",
   "execution_count": 5,
   "metadata": {
    "scrolled": false
   },
   "outputs": [
    {
     "name": "stdout",
     "output_type": "stream",
     "text": [
      "Iter 1/50 - Loss: 0.937   lengthscale: 0.693   noise: 0.693\n",
      "Iter 2/50 - Loss: 0.906   lengthscale: 0.644   noise: 0.644\n",
      "Iter 3/50 - Loss: 0.871   lengthscale: 0.598   noise: 0.598\n",
      "Iter 4/50 - Loss: 0.834   lengthscale: 0.555   noise: 0.554\n",
      "Iter 5/50 - Loss: 0.791   lengthscale: 0.514   noise: 0.513\n",
      "Iter 6/50 - Loss: 0.743   lengthscale: 0.475   noise: 0.474\n",
      "Iter 7/50 - Loss: 0.692   lengthscale: 0.439   noise: 0.437\n",
      "Iter 8/50 - Loss: 0.640   lengthscale: 0.404   noise: 0.402\n",
      "Iter 9/50 - Loss: 0.590   lengthscale: 0.372   noise: 0.369\n",
      "Iter 10/50 - Loss: 0.545   lengthscale: 0.342   noise: 0.339\n",
      "Iter 11/50 - Loss: 0.504   lengthscale: 0.315   noise: 0.310\n",
      "Iter 12/50 - Loss: 0.467   lengthscale: 0.292   noise: 0.284\n",
      "Iter 13/50 - Loss: 0.431   lengthscale: 0.272   noise: 0.259\n",
      "Iter 14/50 - Loss: 0.396   lengthscale: 0.256   noise: 0.237\n",
      "Iter 15/50 - Loss: 0.362   lengthscale: 0.243   noise: 0.216\n",
      "Iter 16/50 - Loss: 0.329   lengthscale: 0.233   noise: 0.196\n",
      "Iter 17/50 - Loss: 0.295   lengthscale: 0.225   noise: 0.179\n",
      "Iter 18/50 - Loss: 0.262   lengthscale: 0.219   noise: 0.162\n",
      "Iter 19/50 - Loss: 0.230   lengthscale: 0.216   noise: 0.148\n",
      "Iter 20/50 - Loss: 0.198   lengthscale: 0.214   noise: 0.134\n",
      "Iter 21/50 - Loss: 0.166   lengthscale: 0.214   noise: 0.122\n",
      "Iter 22/50 - Loss: 0.135   lengthscale: 0.215   noise: 0.111\n",
      "Iter 23/50 - Loss: 0.106   lengthscale: 0.217   noise: 0.101\n",
      "Iter 24/50 - Loss: 0.078   lengthscale: 0.221   noise: 0.092\n",
      "Iter 25/50 - Loss: 0.051   lengthscale: 0.226   noise: 0.083\n",
      "Iter 26/50 - Loss: 0.027   lengthscale: 0.232   noise: 0.076\n",
      "Iter 27/50 - Loss: 0.004   lengthscale: 0.239   noise: 0.069\n",
      "Iter 28/50 - Loss: -0.015   lengthscale: 0.247   noise: 0.063\n",
      "Iter 29/50 - Loss: -0.032   lengthscale: 0.255   noise: 0.058\n",
      "Iter 30/50 - Loss: -0.045   lengthscale: 0.264   noise: 0.053\n",
      "Iter 31/50 - Loss: -0.055   lengthscale: 0.272   noise: 0.049\n",
      "Iter 32/50 - Loss: -0.062   lengthscale: 0.280   noise: 0.046\n",
      "Iter 33/50 - Loss: -0.066   lengthscale: 0.288   noise: 0.042\n",
      "Iter 34/50 - Loss: -0.068   lengthscale: 0.295   noise: 0.040\n",
      "Iter 35/50 - Loss: -0.067   lengthscale: 0.300   noise: 0.037\n",
      "Iter 36/50 - Loss: -0.064   lengthscale: 0.305   noise: 0.035\n",
      "Iter 37/50 - Loss: -0.061   lengthscale: 0.307   noise: 0.033\n",
      "Iter 38/50 - Loss: -0.057   lengthscale: 0.308   noise: 0.032\n",
      "Iter 39/50 - Loss: -0.054   lengthscale: 0.307   noise: 0.031\n",
      "Iter 40/50 - Loss: -0.051   lengthscale: 0.305   noise: 0.030\n",
      "Iter 41/50 - Loss: -0.048   lengthscale: 0.302   noise: 0.029\n",
      "Iter 42/50 - Loss: -0.047   lengthscale: 0.297   noise: 0.029\n",
      "Iter 43/50 - Loss: -0.047   lengthscale: 0.293   noise: 0.029\n",
      "Iter 44/50 - Loss: -0.047   lengthscale: 0.288   noise: 0.029\n",
      "Iter 45/50 - Loss: -0.049   lengthscale: 0.283   noise: 0.029\n",
      "Iter 46/50 - Loss: -0.051   lengthscale: 0.278   noise: 0.029\n",
      "Iter 47/50 - Loss: -0.053   lengthscale: 0.274   noise: 0.030\n",
      "Iter 48/50 - Loss: -0.055   lengthscale: 0.271   noise: 0.031\n",
      "Iter 49/50 - Loss: -0.058   lengthscale: 0.268   noise: 0.031\n",
      "Iter 50/50 - Loss: -0.060   lengthscale: 0.267   noise: 0.032\n"
     ]
    },
    {
     "name": "stderr",
     "output_type": "stream",
     "text": [
      "/opt/anaconda3/lib/python3.8/site-packages/gpytorch/lazy/triangular_lazy_tensor.py:130: UserWarning: torch.triangular_solve is deprecated in favor of torch.linalg.solve_triangularand will be removed in a future PyTorch release.\n",
      "torch.linalg.solve_triangular has its arguments reversed and does not return a copy of one of the inputs.\n",
      "X = torch.triangular_solve(B, A).solution\n",
      "should be replaced with\n",
      "X = torch.linalg.solve_triangular(A, B). (Triggered internally at  /Users/distiller/project/conda/conda-bld/pytorch_1646755922314/work/aten/src/ATen/native/BatchLinearAlgebra.cpp:1672.)\n",
      "  res = torch.triangular_solve(right_tensor, self.evaluate(), upper=self.upper).solution\n"
     ]
    }
   ],
   "source": [
    "# this is for running the notebook in our testing framework\n",
    "import os\n",
    "smoke_test = ('CI' in os.environ)\n",
    "training_iter = 2 if smoke_test else 50\n",
    "\n",
    "\n",
    "# Find optimal model hyperparameters\n",
    "model.train()\n",
    "likelihood.train()\n",
    "\n",
    "# Use the adam optimizer\n",
    "optimizer = torch.optim.Adam(model.parameters(), lr=0.1)  # Includes GaussianLikelihood parameters\n",
    "\n",
    "# \"Loss\" for GPs - the marginal log likelihood\n",
    "mll = gpytorch.mlls.ExactMarginalLogLikelihood(likelihood, model)\n",
    "\n",
    "for i in range(training_iter):\n",
    "    # Zero gradients from previous iteration\n",
    "    optimizer.zero_grad()\n",
    "    # Output from model\n",
    "    output = model(train_x)\n",
    "    # Calc loss and backprop gradients\n",
    "    loss = -mll(output, train_y)\n",
    "    loss.backward()\n",
    "    print('Iter %d/%d - Loss: %.3f   lengthscale: %.3f   noise: %.3f' % (\n",
    "        i + 1, training_iter, loss.item(),\n",
    "        model.covar_module.base_kernel.lengthscale.item(),\n",
    "        model.likelihood.noise.item()\n",
    "    ))\n",
    "    optimizer.step()"
   ]
  },
  {
   "cell_type": "markdown",
   "metadata": {},
   "source": [
    "## Make predictions with the model\n",
    "\n",
    "In the next cell, we make predictions with the model. To do this, we simply put the model and likelihood in eval mode, and call both modules on the test data.\n",
    "\n",
    "Just as a user defined GP model returns a `MultivariateNormal` containing the prior mean and covariance from forward, a trained GP model in eval mode returns a `MultivariateNormal` containing the posterior mean and covariance. Thus, getting the predictive mean and variance, and then sampling functions from the GP at the given test points could be accomplished with calls like:\n",
    "\n",
    "```python\n",
    "f_preds = model(test_x)\n",
    "y_preds = likelihood(model(test_x))\n",
    "\n",
    "f_mean = f_preds.mean\n",
    "f_var = f_preds.variance\n",
    "f_covar = f_preds.covariance_matrix\n",
    "f_samples = f_preds.sample(sample_shape=torch.Size(1000,))\n",
    "```\n",
    "\n",
    "The `gpytorch.settings.fast_pred_var` context is not needed, but here we are giving a preview of using one of our cool features, getting faster predictive distributions using [LOVE](https://arxiv.org/abs/1803.06058)."
   ]
  },
  {
   "cell_type": "code",
   "execution_count": 6,
   "metadata": {},
   "outputs": [
    {
     "name": "stdout",
     "output_type": "stream",
     "text": [
      "f_mean: tensor([-0.0446,  0.0967,  0.2363,  0.3715,  0.4997,  0.6186,  0.7259,  0.8198,\n",
      "         0.8987,  0.9613,  1.0069,  1.0349,  1.0453,  1.0384,  1.0145,  0.9747,\n",
      "         0.9200,  0.8516,  0.7709,  0.6795,  0.5789,  0.4708,  0.3569,  0.2387,\n",
      "         0.1180, -0.0035, -0.1243, -0.2428, -0.3572, -0.4660, -0.5677, -0.6607,\n",
      "        -0.7437, -0.8153, -0.8744, -0.9198, -0.9509, -0.9671, -0.9680, -0.9537,\n",
      "        -0.9245, -0.8810, -0.8242, -0.7553, -0.6759, -0.5876, -0.4925, -0.3927,\n",
      "        -0.2902, -0.1872, -0.0858])\n",
      " f_var: tensor([0.0073, 0.0045, 0.0030, 0.0023, 0.0020, 0.0019, 0.0019, 0.0019, 0.0019,\n",
      "        0.0018, 0.0018, 0.0017, 0.0017, 0.0016, 0.0016, 0.0016, 0.0016, 0.0016,\n",
      "        0.0016, 0.0016, 0.0016, 0.0016, 0.0016, 0.0016, 0.0016, 0.0016, 0.0016,\n",
      "        0.0016, 0.0016, 0.0016, 0.0016, 0.0016, 0.0016, 0.0016, 0.0016, 0.0016,\n",
      "        0.0016, 0.0016, 0.0017, 0.0017, 0.0018, 0.0018, 0.0019, 0.0019, 0.0019,\n",
      "        0.0019, 0.0020, 0.0023, 0.0030, 0.0045, 0.0073])\n",
      " f_covar: tensor([[ 7.2579e-03,  5.5557e-03,  4.0365e-03,  ..., -4.9022e-05,\n",
      "         -4.8674e-05, -3.5940e-05],\n",
      "        [ 5.5559e-03,  4.5010e-03,  3.5205e-03,  ..., -2.6382e-05,\n",
      "         -3.9884e-05, -4.8677e-05],\n",
      "        [ 4.0370e-03,  3.5212e-03,  2.9988e-03,  ..., -5.3768e-06,\n",
      "         -2.6381e-05, -4.9023e-05],\n",
      "        ...,\n",
      "        [-4.9024e-05, -2.6382e-05, -5.3798e-06,  ...,  2.9986e-03,\n",
      "          3.5207e-03,  4.0364e-03],\n",
      "        [-4.8674e-05, -3.9882e-05, -2.6382e-05,  ...,  3.5206e-03,\n",
      "          4.5011e-03,  5.5555e-03],\n",
      "        [-3.5947e-05, -4.8677e-05, -4.9025e-05,  ...,  4.0363e-03,\n",
      "          5.5555e-03,  7.2572e-03]])\n",
      "y_mean: tensor([-0.0446,  0.0967,  0.2363,  0.3715,  0.4997,  0.6186,  0.7259,  0.8198,\n",
      "         0.8987,  0.9613,  1.0069,  1.0349,  1.0453,  1.0384,  1.0145,  0.9747,\n",
      "         0.9200,  0.8516,  0.7709,  0.6795,  0.5789,  0.4708,  0.3569,  0.2387,\n",
      "         0.1180, -0.0035, -0.1243, -0.2428, -0.3572, -0.4660, -0.5677, -0.6607,\n",
      "        -0.7437, -0.8153, -0.8744, -0.9198, -0.9509, -0.9671, -0.9680, -0.9537,\n",
      "        -0.9245, -0.8810, -0.8242, -0.7553, -0.6759, -0.5876, -0.4925, -0.3927,\n",
      "        -0.2902, -0.1872, -0.0858])\n",
      " y_var: tensor([0.0402, 0.0375, 0.0359, 0.0352, 0.0350, 0.0349, 0.0349, 0.0349, 0.0348,\n",
      "        0.0348, 0.0347, 0.0347, 0.0346, 0.0346, 0.0346, 0.0346, 0.0346, 0.0346,\n",
      "        0.0346, 0.0346, 0.0346, 0.0346, 0.0345, 0.0345, 0.0345, 0.0345, 0.0345,\n",
      "        0.0345, 0.0345, 0.0346, 0.0346, 0.0346, 0.0346, 0.0346, 0.0346, 0.0346,\n",
      "        0.0346, 0.0346, 0.0346, 0.0347, 0.0347, 0.0348, 0.0348, 0.0349, 0.0349,\n",
      "        0.0349, 0.0350, 0.0352, 0.0359, 0.0375, 0.0402])\n",
      " y_covar: tensor([[ 4.0207e-02,  5.5557e-03,  4.0365e-03,  ..., -4.9022e-05,\n",
      "         -4.8674e-05, -3.5940e-05],\n",
      "        [ 5.5559e-03,  3.7450e-02,  3.5205e-03,  ..., -2.6382e-05,\n",
      "         -3.9884e-05, -4.8677e-05],\n",
      "        [ 4.0370e-03,  3.5212e-03,  3.5948e-02,  ..., -5.3768e-06,\n",
      "         -2.6381e-05, -4.9023e-05],\n",
      "        ...,\n",
      "        [-4.9024e-05, -2.6382e-05, -5.3798e-06,  ...,  3.5948e-02,\n",
      "          3.5207e-03,  4.0364e-03],\n",
      "        [-4.8674e-05, -3.9882e-05, -2.6382e-05,  ...,  3.5206e-03,\n",
      "          3.7450e-02,  5.5555e-03],\n",
      "        [-3.5947e-05, -4.8677e-05, -4.9025e-05,  ...,  4.0363e-03,\n",
      "          5.5555e-03,  4.0207e-02]])\n",
      "     y_confidenceRegion: (tensor([-0.4456, -0.2903, -0.1429, -0.0039,  0.1258,  0.2450,  0.3524,  0.4463,\n",
      "         0.5254,  0.5883,  0.6343,  0.6626,  0.6732,  0.6663,  0.6426,  0.6028,\n",
      "         0.5480,  0.4796,  0.3990,  0.3076,  0.2071,  0.0990, -0.0149, -0.1330,\n",
      "        -0.2537, -0.3752, -0.4961, -0.6145, -0.7289, -0.8378, -0.9395, -1.0326,\n",
      "        -1.1156, -1.1873, -1.2463, -1.2918, -1.3229, -1.3391, -1.3401, -1.3261,\n",
      "        -1.2972, -1.2540, -1.1975, -1.1288, -1.0494, -0.9612, -0.8665, -0.7681,\n",
      "        -0.6694, -0.5742, -0.4868]), tensor([ 0.3565,  0.4838,  0.6155,  0.7469,  0.8737,  0.9921,  1.0994,  1.1933,\n",
      "         1.2720,  1.3343,  1.3796,  1.4073,  1.4175,  1.4104,  1.3865,  1.3467,\n",
      "         1.2919,  1.2235,  1.1428,  1.0513,  0.9507,  0.8426,  0.7286,  0.6105,\n",
      "         0.4898,  0.3682,  0.2474,  0.1290,  0.0146, -0.0942, -0.1959, -0.2889,\n",
      "        -0.3718, -0.4434, -0.5024, -0.5479, -0.5790, -0.5951, -0.5959, -0.5814,\n",
      "        -0.5518, -0.5080, -0.4509, -0.3818, -0.3023, -0.2141, -0.1186, -0.0173,\n",
      "         0.0890,  0.1998,  0.3152]))\n"
     ]
    }
   ],
   "source": [
    "# Get into evaluation (predictive posterior) mode\n",
    "model.eval()\n",
    "likelihood.eval()\n",
    "\n",
    "# Test points are regularly spaced along [0,1]\n",
    "# Make predictions by feeding model through likelihood\n",
    "with torch.no_grad(): #, gpytorch.settings.fast_pred_var():\n",
    "    test_x = torch.linspace(0, 1, 51)\n",
    "    observed_pred = likelihood(model(test_x))\n",
    "    f_preds = model(test_x)\n",
    "    y_preds = likelihood(model(test_x))\n",
    "    \n",
    "    \n",
    "    \n",
    "    print(f'f_mean: {f_preds.mean}\\n f_var: {f_preds.variance}\\n f_covar: {f_preds.covariance_matrix}')\n",
    "    \n",
    "    lower, upper = y_preds.confidence_region()\n",
    "    print(f'y_mean: {y_preds.mean}\\n y_var: {y_preds.variance}\\n y_covar: {y_preds.covariance_matrix}\\n \\\n",
    "    y_confidenceRegion: {lower, upper}')"
   ]
  },
  {
   "cell_type": "markdown",
   "metadata": {},
   "source": [
    "## Plot the model fit\n",
    "\n",
    "In the next cell, we plot the mean and confidence region of the Gaussian process model. The `confidence_region` method is a helper method that returns 2 standard deviations above and below the mean."
   ]
  },
  {
   "cell_type": "code",
   "execution_count": 7,
   "metadata": {
    "scrolled": false
   },
   "outputs": [
    {
     "data": {
      "image/png": "[encoded data removed]",
      "text/plain": [
       "<Figure size 288x216 with 1 Axes>"
      ]
     },
     "metadata": {
      "needs_background": "light"
     },
     "output_type": "display_data"
    }
   ],
   "source": [
    "with torch.no_grad():\n",
    "    # Initialize plot\n",
    "    f, ax = plt.subplots(1, 1, figsize=(4, 3))\n",
    "\n",
    "    # Get upper and lower confidence bounds\n",
    "    lower, upper = observed_pred.confidence_region()\n",
    "    # Plot training data as black stars\n",
    "    ax.plot(train_x.numpy(), train_y.numpy(), 'k*')\n",
    "    # Plot predictive means as blue line\n",
    "    ax.plot(test_x.numpy(), observed_pred.mean.numpy(), 'b')\n",
    "    # Shade between the lower and upper confidence bounds\n",
    "    ax.fill_between(test_x.numpy(), lower.numpy(), upper.numpy(), alpha=0.5)\n",
    "    ax.set_ylim([-3, 3])\n",
    "    ax.legend(['Observed Data', 'Mean', 'Confidence'])"
   ]
  },
  {
   "cell_type": "code",
   "execution_count": 8,
   "metadata": {},
   "outputs": [
    {
     "name": "stderr",
     "output_type": "stream",
     "text": [
      "/opt/anaconda3/lib/python3.8/site-packages/gpytorch/utils/cholesky.py:38: NumericalWarning: A not p.d., added jitter of 1.0e-06 to the diagonal\n",
      "  warnings.warn(\n",
      "/opt/anaconda3/lib/python3.8/site-packages/gpytorch/utils/cholesky.py:38: NumericalWarning: A not p.d., added jitter of 1.0e-05 to the diagonal\n",
      "  warnings.warn(\n"
     ]
    }
   ],
   "source": [
    "f_samples = f_preds.sample(torch.Size([1000,]))"
   ]
  },
  {
   "cell_type": "code",
   "execution_count": 12,
   "metadata": {},
   "outputs": [
    {
     "name": "stdout",
     "output_type": "stream",
     "text": [
      "torch.Size([1000, 51])\n",
      "tensor([[-0.0040,  0.1537,  0.3014,  ..., -0.3268, -0.2278, -0.1389],\n",
      "        [-0.0391,  0.1359,  0.2805,  ..., -0.3312, -0.1889, -0.0146],\n",
      "        [ 0.0428,  0.1747,  0.3021,  ..., -0.2718, -0.1543, -0.0369],\n",
      "        ...,\n",
      "        [-0.0569,  0.0752,  0.2190,  ..., -0.3369, -0.2710, -0.2112],\n",
      "        [-0.1196,  0.0553,  0.2193,  ..., -0.2880, -0.1898, -0.0935],\n",
      "        [ 0.0535,  0.1911,  0.3185,  ..., -0.3179, -0.2089, -0.0894]])\n"
     ]
    }
   ],
   "source": [
    "# print(f_samples.shape)\n",
    "# print(f_samples)"
   ]
  },
  {
   "cell_type": "code",
   "execution_count": 10,
   "metadata": {},
   "outputs": [
    {
     "name": "stdout",
     "output_type": "stream",
     "text": [
      "tensor([-0.0391,  0.1359,  0.2805,  0.4292,  0.5615,  0.6849,  0.7961,  0.8765,\n",
      "         0.9551,  1.0098,  1.0573,  1.0770,  1.0871,  1.0877,  1.0605,  1.0174,\n",
      "         0.9656,  0.8953,  0.8145,  0.7188,  0.6235,  0.5128,  0.3888,  0.2738,\n",
      "         0.1506,  0.0263, -0.1042, -0.2254, -0.3470, -0.4578, -0.5615, -0.6536,\n",
      "        -0.7348, -0.8062, -0.8678, -0.9147, -0.9501, -0.9683, -0.9834, -0.9813,\n",
      "        -0.9656, -0.9388, -0.8934, -0.8321, -0.7701, -0.6766, -0.5807, -0.4593,\n",
      "        -0.3312, -0.1889, -0.0146])\n"
     ]
    },
    {
     "data": {
      "image/png": "[encoded data removed]",
      "text/plain": [
       "<Figure size 288x216 with 1 Axes>"
      ]
     },
     "metadata": {
      "needs_background": "light"
     },
     "output_type": "display_data"
    }
   ],
   "source": [
    "# f, ax = plt.subplots(1, 1, figsize=(4, 3))\n",
    "# ax.plot(test_x, f_samples[1,:], 'b')\n",
    "# ax.plot(test_x, f_samples[2,:], 'r')\n",
    "# print(f_samples[1, :])"
   ]
  },
  {
   "cell_type": "code",
   "execution_count": null,
   "metadata": {},
   "outputs": [],
   "source": []
  }
 ],
 "metadata": {
  "anaconda-cloud": {},
  "kernelspec": {
   "display_name": "Python 3 (ipykernel)",
   "language": "python",
   "name": "python3"
  },
  "language_info": {
   "codemirror_mode": {
    "name": "ipython",
    "version": 3
   },
   "file_extension": ".py",
   "mimetype": "text/x-python",
   "name": "python",
   "nbconvert_exporter": "python",
   "pygments_lexer": "ipython3",
   "version": "3.8.3"
  },
  "vscode": {
   "interpreter": {
    "hash": "aee8b7b246df8f9039afb4144a1f6fd8d2ca17a180786b69acc140d282b71a49"
   }
  }
 },
 "nbformat": 4,
 "nbformat_minor": 1
}
